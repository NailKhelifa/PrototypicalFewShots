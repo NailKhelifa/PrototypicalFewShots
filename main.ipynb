{
 "cells": [
  {
   "cell_type": "code",
   "execution_count": 1,
   "metadata": {},
   "outputs": [],
   "source": [
    "## classique \n",
    "\n",
    "import numpy as np\n",
    "import torch \n",
    "import h5py # pour gérer les formats de données utilisés ici \n",
    "import torch\n",
    "from collections import Counter\n",
    "import matplotlib.pyplot as plt\n",
    "from tqdm import tqdm, trange\n",
    "from sklearn.metrics import classification_report, accuracy_score, confusion_matrix\n",
    "import torch.nn as nn\n",
    "import torch.nn.functional as F\n",
    "from torch.utils.data import DataLoader\n",
    "import utils\n",
    "\n",
    "## handmade\n"
   ]
  },
  {
   "cell_type": "markdown",
   "metadata": {},
   "source": [
    "On commence par charger les données d'entraînement, que l'on va plus tard utiliser pour entraîner le modèle de few-shot learning en question. "
   ]
  },
  {
   "cell_type": "code",
   "execution_count": 2,
   "metadata": {},
   "outputs": [
    {
     "ename": "FileNotFoundError",
     "evalue": "[Errno 2] Unable to open file (unable to open file: name = '/Users/badis/MVA_deep_and_signal/Few_shots_classif/train.hdf5', errno = 2, error message = 'No such file or directory', flags = 0, o_flags = 0)",
     "output_type": "error",
     "traceback": [
      "\u001b[0;31m---------------------------------------------------------------------------\u001b[0m",
      "\u001b[0;31mFileNotFoundError\u001b[0m                         Traceback (most recent call last)",
      "Cell \u001b[0;32mIn[2], line 5\u001b[0m\n\u001b[1;32m      2\u001b[0m train_data_path \u001b[38;5;241m=\u001b[39m \u001b[38;5;124m'\u001b[39m\u001b[38;5;124m/Users/badis/MVA_deep_and_signal/Few_shots_classif/train.hdf5\u001b[39m\u001b[38;5;124m'\u001b[39m\n\u001b[1;32m      4\u001b[0m \u001b[38;5;66;03m# Chargement des données HDF5\u001b[39;00m\n\u001b[0;32m----> 5\u001b[0m \u001b[38;5;28;01mwith\u001b[39;00m \u001b[43mh5py\u001b[49m\u001b[38;5;241;43m.\u001b[39;49m\u001b[43mFile\u001b[49m\u001b[43m(\u001b[49m\u001b[43mtrain_data_path\u001b[49m\u001b[43m,\u001b[49m\u001b[43m \u001b[49m\u001b[38;5;124;43m'\u001b[39;49m\u001b[38;5;124;43mr\u001b[39;49m\u001b[38;5;124;43m'\u001b[39;49m\u001b[43m)\u001b[49m \u001b[38;5;28;01mas\u001b[39;00m data:\n\u001b[1;32m      6\u001b[0m     x_train \u001b[38;5;241m=\u001b[39m torch\u001b[38;5;241m.\u001b[39mtensor(data[\u001b[38;5;124m'\u001b[39m\u001b[38;5;124msignaux\u001b[39m\u001b[38;5;124m'\u001b[39m][:])  \u001b[38;5;66;03m# Convertir les signaux en tenseur PyTorch\u001b[39;00m\n\u001b[1;32m      7\u001b[0m     \u001b[38;5;66;03m# Forme [30000, 2048, 2] que l'on réorganise en [30000, 2, 2048] : (batch, canal, résolution_temporelle)\u001b[39;00m\n",
      "File \u001b[0;32m/Library/Frameworks/Python.framework/Versions/3.9/lib/python3.9/site-packages/h5py/_hl/files.py:561\u001b[0m, in \u001b[0;36mFile.__init__\u001b[0;34m(self, name, mode, driver, libver, userblock_size, swmr, rdcc_nslots, rdcc_nbytes, rdcc_w0, track_order, fs_strategy, fs_persist, fs_threshold, fs_page_size, page_buf_size, min_meta_keep, min_raw_keep, locking, alignment_threshold, alignment_interval, meta_block_size, **kwds)\u001b[0m\n\u001b[1;32m    552\u001b[0m     fapl \u001b[38;5;241m=\u001b[39m make_fapl(driver, libver, rdcc_nslots, rdcc_nbytes, rdcc_w0,\n\u001b[1;32m    553\u001b[0m                      locking, page_buf_size, min_meta_keep, min_raw_keep,\n\u001b[1;32m    554\u001b[0m                      alignment_threshold\u001b[38;5;241m=\u001b[39malignment_threshold,\n\u001b[1;32m    555\u001b[0m                      alignment_interval\u001b[38;5;241m=\u001b[39malignment_interval,\n\u001b[1;32m    556\u001b[0m                      meta_block_size\u001b[38;5;241m=\u001b[39mmeta_block_size,\n\u001b[1;32m    557\u001b[0m                      \u001b[38;5;241m*\u001b[39m\u001b[38;5;241m*\u001b[39mkwds)\n\u001b[1;32m    558\u001b[0m     fcpl \u001b[38;5;241m=\u001b[39m make_fcpl(track_order\u001b[38;5;241m=\u001b[39mtrack_order, fs_strategy\u001b[38;5;241m=\u001b[39mfs_strategy,\n\u001b[1;32m    559\u001b[0m                      fs_persist\u001b[38;5;241m=\u001b[39mfs_persist, fs_threshold\u001b[38;5;241m=\u001b[39mfs_threshold,\n\u001b[1;32m    560\u001b[0m                      fs_page_size\u001b[38;5;241m=\u001b[39mfs_page_size)\n\u001b[0;32m--> 561\u001b[0m     fid \u001b[38;5;241m=\u001b[39m \u001b[43mmake_fid\u001b[49m\u001b[43m(\u001b[49m\u001b[43mname\u001b[49m\u001b[43m,\u001b[49m\u001b[43m \u001b[49m\u001b[43mmode\u001b[49m\u001b[43m,\u001b[49m\u001b[43m \u001b[49m\u001b[43muserblock_size\u001b[49m\u001b[43m,\u001b[49m\u001b[43m \u001b[49m\u001b[43mfapl\u001b[49m\u001b[43m,\u001b[49m\u001b[43m \u001b[49m\u001b[43mfcpl\u001b[49m\u001b[43m,\u001b[49m\u001b[43m \u001b[49m\u001b[43mswmr\u001b[49m\u001b[38;5;241;43m=\u001b[39;49m\u001b[43mswmr\u001b[49m\u001b[43m)\u001b[49m\n\u001b[1;32m    563\u001b[0m \u001b[38;5;28;01mif\u001b[39;00m \u001b[38;5;28misinstance\u001b[39m(libver, \u001b[38;5;28mtuple\u001b[39m):\n\u001b[1;32m    564\u001b[0m     \u001b[38;5;28mself\u001b[39m\u001b[38;5;241m.\u001b[39m_libver \u001b[38;5;241m=\u001b[39m libver\n",
      "File \u001b[0;32m/Library/Frameworks/Python.framework/Versions/3.9/lib/python3.9/site-packages/h5py/_hl/files.py:235\u001b[0m, in \u001b[0;36mmake_fid\u001b[0;34m(name, mode, userblock_size, fapl, fcpl, swmr)\u001b[0m\n\u001b[1;32m    233\u001b[0m     \u001b[38;5;28;01mif\u001b[39;00m swmr \u001b[38;5;129;01mand\u001b[39;00m swmr_support:\n\u001b[1;32m    234\u001b[0m         flags \u001b[38;5;241m|\u001b[39m\u001b[38;5;241m=\u001b[39m h5f\u001b[38;5;241m.\u001b[39mACC_SWMR_READ\n\u001b[0;32m--> 235\u001b[0m     fid \u001b[38;5;241m=\u001b[39m \u001b[43mh5f\u001b[49m\u001b[38;5;241;43m.\u001b[39;49m\u001b[43mopen\u001b[49m\u001b[43m(\u001b[49m\u001b[43mname\u001b[49m\u001b[43m,\u001b[49m\u001b[43m \u001b[49m\u001b[43mflags\u001b[49m\u001b[43m,\u001b[49m\u001b[43m \u001b[49m\u001b[43mfapl\u001b[49m\u001b[38;5;241;43m=\u001b[39;49m\u001b[43mfapl\u001b[49m\u001b[43m)\u001b[49m\n\u001b[1;32m    236\u001b[0m \u001b[38;5;28;01melif\u001b[39;00m mode \u001b[38;5;241m==\u001b[39m \u001b[38;5;124m'\u001b[39m\u001b[38;5;124mr+\u001b[39m\u001b[38;5;124m'\u001b[39m:\n\u001b[1;32m    237\u001b[0m     fid \u001b[38;5;241m=\u001b[39m h5f\u001b[38;5;241m.\u001b[39mopen(name, h5f\u001b[38;5;241m.\u001b[39mACC_RDWR, fapl\u001b[38;5;241m=\u001b[39mfapl)\n",
      "File \u001b[0;32mh5py/_objects.pyx:54\u001b[0m, in \u001b[0;36mh5py._objects.with_phil.wrapper\u001b[0;34m()\u001b[0m\n",
      "File \u001b[0;32mh5py/_objects.pyx:55\u001b[0m, in \u001b[0;36mh5py._objects.with_phil.wrapper\u001b[0;34m()\u001b[0m\n",
      "File \u001b[0;32mh5py/h5f.pyx:102\u001b[0m, in \u001b[0;36mh5py.h5f.open\u001b[0;34m()\u001b[0m\n",
      "\u001b[0;31mFileNotFoundError\u001b[0m: [Errno 2] Unable to open file (unable to open file: name = '/Users/badis/MVA_deep_and_signal/Few_shots_classif/train.hdf5', errno = 2, error message = 'No such file or directory', flags = 0, o_flags = 0)"
     ]
    }
   ],
   "source": [
    "# Chemin vers le fichier de données\n",
    "train_data_path = '/Users/badis/MVA_deep_and_signal/Few_shots_classif/train.hdf5'\n",
    "\n",
    "# Chargement des données HDF5\n",
    "with h5py.File(train_data_path, 'r') as data:\n",
    "    x_train = torch.tensor(data['signaux'][:])  # Convertir les signaux en tenseur PyTorch\n",
    "    # Forme [30000, 2048, 2] que l'on réorganise en [30000, 2, 2048] : (batch, canal, résolution_temporelle)\n",
    "    x_train = x_train.permute(0, 2, 1)  \n",
    "    snr_train = torch.tensor(data['snr'][:])    \n",
    "    y_train = torch.tensor(data['labels'][:])  # Convertir les labels en tenseur PyTorch\n"
   ]
  },
  {
   "cell_type": "code",
   "execution_count": 3,
   "metadata": {},
   "outputs": [
    {
     "data": {
      "text/plain": [
       "30000"
      ]
     },
     "execution_count": 3,
     "metadata": {},
     "output_type": "execute_result"
    }
   ],
   "source": [
    "len(x_train)"
   ]
  },
  {
   "cell_type": "markdown",
   "metadata": {},
   "source": [
    "### Few-Shot Classification\n",
    "\n",
    "In few-shot classification we are given a small support set of $ N $ labeled examples $ S = \\{(x_1, y_1), \\dots, (x_N, y_N)\\} $, where each $ x_i \\in \\mathbb{R}^D $ is the $ D $-dimensional feature vector of an example and $ y_i \\in \\{1, \\dots, K\\} $ is the corresponding label. $ S_k $ denotes the set of examples labeled with class $ k $.\n",
    "\n",
    "### Prototypical Networks classification\n",
    "\n",
    "Prototypical networks compute an $ M $-dimensional representation $ c_k \\in \\mathbb{R}^M $, or prototype, of each class through an embedding function $ f_\\phi : \\mathbb{R}^D \\to \\mathbb{R}^M $ with learnable parameters $ \\phi $. Each prototype is the mean vector of the embedded support points belonging to its class:\n",
    "\n",
    "$$\n",
    "c_k = \\frac{1}{|S_k|} \\sum_{(x_i, y_i) \\in S_k} f_\\phi(x_i) \\tag{1}\n",
    "$$\n",
    "\n",
    "Given a distance function $ d : \\mathbb{R}^M \\times \\mathbb{R}^M \\to [0, +\\infty) $, prototypical networks produce a distribution over classes for a query point $ x $ based on a softmax over distances to the prototypes in the embedding space:\n",
    "\n",
    "$$\n",
    "p_\\phi(y = k \\mid x) = \\frac{\\exp(-d(f_\\phi(x), c_k))}{\\sum_{k'} \\exp(-d(f_\\phi(x), c_{k'}))} \\tag{2}\n",
    "$$\n",
    "\n",
    "Learning proceeds by minimizing the negative log-probability:\n",
    "\n",
    "$$\n",
    "J(\\phi) = -\\log p_\\phi(y = k \\mid x)\n",
    "$$\n",
    "\n",
    "of the true class $ k $ via stochastic gradient descent (SGD). Training episodes are formed by randomly selecting a subset of classes from the training set, then choosing a subset of examples within each class to act as the support set and a subset of the remainder to serve as query points. \n"
   ]
  },
  {
   "cell_type": "code",
   "execution_count": 4,
   "metadata": {},
   "outputs": [],
   "source": [
    "import train"
   ]
  },
  {
   "cell_type": "code",
   "execution_count": null,
   "metadata": {},
   "outputs": [
    {
     "name": "stderr",
     "output_type": "stream",
     "text": [
      "usage: ipykernel_launcher.py [-h] [-root DATASET_ROOT] [-exp EXPERIMENT_ROOT]\n",
      "                             [-nep EPOCHS] [-lr LEARNING_RATE]\n",
      "                             [-lrS LR_SCHEDULER_STEP]\n",
      "                             [-lrG LR_SCHEDULER_GAMMA] [-its ITERATIONS]\n",
      "                             [-cTr CLASSES_PER_IT_TR] [-nsTr NUM_SUPPORT_TR]\n",
      "                             [-nqTr NUM_QUERY_TR] [-cVa CLASSES_PER_IT_VAL]\n",
      "                             [-nsVa NUM_SUPPORT_VAL] [-nqVa NUM_QUERY_VAL]\n",
      "                             [-seed MANUAL_SEED] [--cuda]\n",
      "ipykernel_launcher.py: error: unrecognized arguments: --f=/Users/badis/Library/Jupyter/runtime/kernel-v3c9bc700af36028be0c9e4062918ec4285acf5a65.json\n"
     ]
    },
    {
     "ename": "SystemExit",
     "evalue": "2",
     "output_type": "error",
     "traceback": [
      "An exception has occurred, use %tb to see the full traceback.\n",
      "\u001b[0;31mSystemExit\u001b[0m\u001b[0;31m:\u001b[0m 2\n"
     ]
    },
    {
     "name": "stderr",
     "output_type": "stream",
     "text": [
      "/Users/badis/Library/Python/3.9/lib/python/site-packages/IPython/core/interactiveshell.py:3516: UserWarning: To exit: use 'exit', 'quit', or Ctrl-D.\n",
      "  warn(\"To exit: use 'exit', 'quit', or Ctrl-D.\", stacklevel=1)\n"
     ]
    }
   ],
   "source": [
    "options = {\n",
    "    'train_dataset_path': 'train.hdf5',  # Path to the dataset\n",
    "    'experiment_root': '../output',  # Directory to save models, losses, and accuracies\n",
    "    'epochs': 50,  # Number of epochs for training\n",
    "    'learning_rate': 0.001,  # Learning rate for the optimizer\n",
    "    'lr_scheduler_step': 20,  # Step size for the learning rate scheduler\n",
    "    'lr_scheduler_gamma': 0.5,  # Multiplicative factor for learning rate decay\n",
    "    'iterations': 100,  # Number of episodes per epoch\n",
    "    'classes_per_it_tr': 60,  # Number of classes per training iteration\n",
    "    'num_support_tr': 5,  # Number of support samples per class for training\n",
    "    'num_query_tr': 5,  # Number of query samples per class for training\n",
    "    'classes_per_it_val': 5,  # Number of classes per validation iteration\n",
    "    'num_support_val': 5,  # Number of support samples per class for validation\n",
    "    'num_query_val': 15,  # Number of query samples per class for validation\n",
    "    'manual_seed': 7,  # Manual seed for reproducibility\n",
    "    'device': 'cuda:0'  # Whether to use CUDA for computation\n",
    "}"
   ]
  },
  {
   "cell_type": "code",
   "execution_count": null,
   "metadata": {},
   "outputs": [],
   "source": [
    "train.main(options)"
   ]
  }
 ],
 "metadata": {
  "kernelspec": {
   "display_name": "Python (nail_env)",
   "language": "python",
   "name": "nail_env"
  },
  "language_info": {
   "codemirror_mode": {
    "name": "ipython",
    "version": 3
   },
   "file_extension": ".py",
   "mimetype": "text/x-python",
   "name": "python",
   "nbconvert_exporter": "python",
   "pygments_lexer": "ipython3",
   "version": "3.9.10"
  }
 },
 "nbformat": 4,
 "nbformat_minor": 2
}

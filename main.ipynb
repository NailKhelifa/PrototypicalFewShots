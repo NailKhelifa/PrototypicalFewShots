{
 "cells": [
  {
   "cell_type": "code",
   "execution_count": 1,
   "metadata": {},
   "outputs": [],
   "source": [
    "## classique \n",
    "\n",
    "import numpy as np\n",
    "import torch \n",
    "import h5py # pour gérer les formats de données utilisés ici \n",
    "import torch\n",
    "from collections import Counter\n",
    "import matplotlib.pyplot as plt\n",
    "from tqdm import tqdm, trange\n",
    "from sklearn.metrics import classification_report, accuracy_score, confusion_matrix\n",
    "import torch.nn as nn\n",
    "import torch.nn.functional as F\n",
    "from torch.utils.data import DataLoader\n",
    "\n",
    "## handmade\n",
    "import train\n",
    "import test"
   ]
  },
  {
   "cell_type": "markdown",
   "metadata": {},
   "source": [
    "On commence par charger les données d'entraînement, que l'on va plus tard utiliser pour entraîner le modèle de few-shot learning en question. "
   ]
  },
  {
   "cell_type": "code",
   "execution_count": null,
   "metadata": {},
   "outputs": [],
   "source": [
    "# Chemin vers le fichier de données\n",
    "x, y, snr = test.load_data(type=\"enroll\")\n"
   ]
  },
  {
   "cell_type": "markdown",
   "metadata": {},
   "source": [
    "### Few-Shot Classification\n",
    "\n",
    "In few-shot classification we are given a small support set of $ N $ labeled examples $ S = \\{(x_1, y_1), \\dots, (x_N, y_N)\\} $, where each $ x_i \\in \\mathbb{R}^D $ is the $ D $-dimensional feature vector of an example and $ y_i \\in \\{1, \\dots, K\\} $ is the corresponding label. $ S_k $ denotes the set of examples labeled with class $ k $.\n",
    "\n",
    "### Prototypical Networks classification\n",
    "\n",
    "Prototypical networks compute an $ M $-dimensional representation $ c_k \\in \\mathbb{R}^M $, or prototype, of each class through an embedding function $ f_\\phi : \\mathbb{R}^D \\to \\mathbb{R}^M $ with learnable parameters $ \\phi $. Each prototype is the mean vector of the embedded support points belonging to its class:\n",
    "\n",
    "$$\n",
    "c_k = \\frac{1}{|S_k|} \\sum_{(x_i, y_i) \\in S_k} f_\\phi(x_i) \\tag{1}\n",
    "$$\n",
    "\n",
    "Given a distance function $ d : \\mathbb{R}^M \\times \\mathbb{R}^M \\to [0, +\\infty) $, prototypical networks produce a distribution over classes for a query point $ x $ based on a softmax over distances to the prototypes in the embedding space:\n",
    "\n",
    "$$\n",
    "p_\\phi(y = k \\mid x) = \\frac{\\exp(-d(f_\\phi(x), c_k))}{\\sum_{k'} \\exp(-d(f_\\phi(x), c_{k'}))} \\tag{2}\n",
    "$$\n",
    "\n",
    "Learning proceeds by minimizing the negative log-probability:\n",
    "\n",
    "$$\n",
    "J(\\phi) = -\\log p_\\phi(y = k \\mid x)\n",
    "$$\n",
    "\n",
    "of the true class $ k $ via stochastic gradient descent (SGD). Training episodes are formed by randomly selecting a subset of classes from the training set, then choosing a subset of examples within each class to act as the support set and a subset of the remainder to serve as query points. \n"
   ]
  },
  {
   "cell_type": "code",
   "execution_count": 4,
   "metadata": {},
   "outputs": [],
   "source": [
    "opt = {\n",
    "    'train_dataset_path': 'train.hdf5',  # Path to the dataset\n",
    "    'epochs': 50,  # Number of epochs for training\n",
    "    'learning_rate': 0.001,  # Learning rate for the optimizer\n",
    "    'lr_scheduler_step': 20,  # Step size for the learning rate scheduler\n",
    "    'lr_scheduler_gamma': 0.5,  # Multiplicative factor for learning rate decay\n",
    "    'iterations': 100,  # Number of episodes per epoch\n",
    "    'classes_per_it_tr': 5,  # Number of classes per training iteration\n",
    "    'num_support_tr': 20,  # Number of support samples per class for training\n",
    "    'num_query_tr': 20,  # Number of query samples per class for training\n",
    "    'classes_per_it_val': 5,  # Number of classes per validation iteration\n",
    "    'num_support_val': 5,  # Number of support samples per class for validation\n",
    "    'num_query_val': 15,  # Number of query samples per class for validation\n",
    "    'manual_seed': 7,  # Manual seed for reproducibility\n",
    "    'device': 'cuda:0'  # Whether to use CUDA for computation\n",
    "}"
   ]
  },
  {
   "cell_type": "code",
   "execution_count": 5,
   "metadata": {},
   "outputs": [
    {
     "name": "stdout",
     "output_type": "stream",
     "text": [
      "=== Epoch: 0 ===\n"
     ]
    },
    {
     "name": "stderr",
     "output_type": "stream",
     "text": [
      "100%|██████████| 100/100 [00:37<00:00,  2.70it/s]\n"
     ]
    },
    {
     "name": "stdout",
     "output_type": "stream",
     "text": [
      "Avg Train Loss: 1.1148308420181274, Avg Train Acc: 0.4220999984443188\n",
      "=== Epoch: 1 ===\n"
     ]
    },
    {
     "name": "stderr",
     "output_type": "stream",
     "text": [
      "100%|██████████| 100/100 [00:37<00:00,  2.65it/s]\n"
     ]
    },
    {
     "name": "stdout",
     "output_type": "stream",
     "text": [
      "Avg Train Loss: 0.7292481771111489, Avg Train Acc: 0.6186999994516372\n",
      "=== Epoch: 2 ===\n"
     ]
    },
    {
     "name": "stderr",
     "output_type": "stream",
     "text": [
      "100%|██████████| 100/100 [00:36<00:00,  2.72it/s]\n"
     ]
    },
    {
     "name": "stdout",
     "output_type": "stream",
     "text": [
      "Avg Train Loss: 0.6008706933259964, Avg Train Acc: 0.670800002515316\n",
      "=== Epoch: 3 ===\n"
     ]
    },
    {
     "name": "stderr",
     "output_type": "stream",
     "text": [
      "100%|██████████| 100/100 [00:37<00:00,  2.67it/s]\n"
     ]
    },
    {
     "name": "stdout",
     "output_type": "stream",
     "text": [
      "Avg Train Loss: 0.5666881918907165, Avg Train Acc: 0.6677999982237816\n",
      "=== Epoch: 4 ===\n"
     ]
    },
    {
     "name": "stderr",
     "output_type": "stream",
     "text": [
      "100%|██████████| 100/100 [00:38<00:00,  2.60it/s]\n"
     ]
    },
    {
     "name": "stdout",
     "output_type": "stream",
     "text": [
      "Avg Train Loss: 0.5519236138463021, Avg Train Acc: 0.6754999977350234\n",
      "=== Epoch: 5 ===\n"
     ]
    },
    {
     "name": "stderr",
     "output_type": "stream",
     "text": [
      "100%|██████████| 100/100 [00:36<00:00,  2.71it/s]\n"
     ]
    },
    {
     "name": "stdout",
     "output_type": "stream",
     "text": [
      "Avg Train Loss: 0.5675782862305642, Avg Train Acc: 0.6634000021219254\n",
      "=== Epoch: 6 ===\n"
     ]
    },
    {
     "name": "stderr",
     "output_type": "stream",
     "text": [
      "100%|██████████| 100/100 [00:37<00:00,  2.67it/s]\n"
     ]
    },
    {
     "name": "stdout",
     "output_type": "stream",
     "text": [
      "Avg Train Loss: 0.5833797383308411, Avg Train Acc: 0.6606999981403351\n",
      "=== Epoch: 7 ===\n"
     ]
    },
    {
     "name": "stderr",
     "output_type": "stream",
     "text": [
      "100%|██████████| 100/100 [00:36<00:00,  2.71it/s]\n"
     ]
    },
    {
     "name": "stdout",
     "output_type": "stream",
     "text": [
      "Avg Train Loss: 0.5440657445788384, Avg Train Acc: 0.6737000012397766\n",
      "=== Epoch: 8 ===\n"
     ]
    },
    {
     "name": "stderr",
     "output_type": "stream",
     "text": [
      "100%|██████████| 100/100 [00:37<00:00,  2.64it/s]\n"
     ]
    },
    {
     "name": "stdout",
     "output_type": "stream",
     "text": [
      "Avg Train Loss: 0.5599497389793396, Avg Train Acc: 0.6581000021100044\n",
      "=== Epoch: 9 ===\n"
     ]
    },
    {
     "name": "stderr",
     "output_type": "stream",
     "text": [
      "100%|██████████| 100/100 [00:37<00:00,  2.67it/s]\n"
     ]
    },
    {
     "name": "stdout",
     "output_type": "stream",
     "text": [
      "Avg Train Loss: 0.5553716641664505, Avg Train Acc: 0.6569000008702278\n",
      "=== Epoch: 10 ===\n"
     ]
    },
    {
     "name": "stderr",
     "output_type": "stream",
     "text": [
      "100%|██████████| 100/100 [00:37<00:00,  2.69it/s]\n"
     ]
    },
    {
     "name": "stdout",
     "output_type": "stream",
     "text": [
      "Avg Train Loss: 0.5405883860588073, Avg Train Acc: 0.6740999987721443\n",
      "=== Epoch: 11 ===\n"
     ]
    },
    {
     "name": "stderr",
     "output_type": "stream",
     "text": [
      "100%|██████████| 100/100 [00:36<00:00,  2.75it/s]\n"
     ]
    },
    {
     "name": "stdout",
     "output_type": "stream",
     "text": [
      "Avg Train Loss: 0.5404969346523285, Avg Train Acc: 0.6674000036716461\n",
      "=== Epoch: 12 ===\n"
     ]
    },
    {
     "name": "stderr",
     "output_type": "stream",
     "text": [
      "100%|██████████| 100/100 [00:37<00:00,  2.68it/s]\n"
     ]
    },
    {
     "name": "stdout",
     "output_type": "stream",
     "text": [
      "Avg Train Loss: 0.5496581789851188, Avg Train Acc: 0.6666999983787537\n",
      "=== Epoch: 13 ===\n"
     ]
    },
    {
     "name": "stderr",
     "output_type": "stream",
     "text": [
      "100%|██████████| 100/100 [00:37<00:00,  2.64it/s]\n"
     ]
    },
    {
     "name": "stdout",
     "output_type": "stream",
     "text": [
      "Avg Train Loss: 0.5458073112368583, Avg Train Acc: 0.6735000011324882\n",
      "=== Epoch: 14 ===\n"
     ]
    },
    {
     "name": "stderr",
     "output_type": "stream",
     "text": [
      "100%|██████████| 100/100 [00:37<00:00,  2.69it/s]\n"
     ]
    },
    {
     "name": "stdout",
     "output_type": "stream",
     "text": [
      "Avg Train Loss: 0.5320988896489144, Avg Train Acc: 0.676099998652935\n",
      "=== Epoch: 15 ===\n"
     ]
    },
    {
     "name": "stderr",
     "output_type": "stream",
     "text": [
      "100%|██████████| 100/100 [00:36<00:00,  2.73it/s]\n"
     ]
    },
    {
     "name": "stdout",
     "output_type": "stream",
     "text": [
      "Avg Train Loss: 0.5401873514056206, Avg Train Acc: 0.6643999961018562\n",
      "=== Epoch: 16 ===\n"
     ]
    },
    {
     "name": "stderr",
     "output_type": "stream",
     "text": [
      "100%|██████████| 100/100 [00:37<00:00,  2.65it/s]\n"
     ]
    },
    {
     "name": "stdout",
     "output_type": "stream",
     "text": [
      "Avg Train Loss: 0.527891592681408, Avg Train Acc: 0.6817000016570092\n",
      "=== Epoch: 17 ===\n"
     ]
    },
    {
     "name": "stderr",
     "output_type": "stream",
     "text": [
      "100%|██████████| 100/100 [00:36<00:00,  2.71it/s]\n"
     ]
    },
    {
     "name": "stdout",
     "output_type": "stream",
     "text": [
      "Avg Train Loss: 0.5368800872564315, Avg Train Acc: 0.6790000009536743\n",
      "=== Epoch: 18 ===\n"
     ]
    },
    {
     "name": "stderr",
     "output_type": "stream",
     "text": [
      "100%|██████████| 100/100 [00:37<00:00,  2.67it/s]\n"
     ]
    },
    {
     "name": "stdout",
     "output_type": "stream",
     "text": [
      "Avg Train Loss: 0.5061358344554902, Avg Train Acc: 0.6876999998092651\n",
      "=== Epoch: 19 ===\n"
     ]
    },
    {
     "name": "stderr",
     "output_type": "stream",
     "text": [
      "100%|██████████| 100/100 [00:37<00:00,  2.70it/s]\n"
     ]
    },
    {
     "name": "stdout",
     "output_type": "stream",
     "text": [
      "Avg Train Loss: 0.5215732455253601, Avg Train Acc: 0.6780999994277954\n",
      "=== Epoch: 20 ===\n"
     ]
    },
    {
     "name": "stderr",
     "output_type": "stream",
     "text": [
      "100%|██████████| 100/100 [00:37<00:00,  2.67it/s]\n"
     ]
    },
    {
     "name": "stdout",
     "output_type": "stream",
     "text": [
      "Avg Train Loss: 0.502420184314251, Avg Train Acc: 0.7003999984264374\n",
      "=== Epoch: 21 ===\n"
     ]
    },
    {
     "name": "stderr",
     "output_type": "stream",
     "text": [
      "100%|██████████| 100/100 [00:36<00:00,  2.70it/s]\n"
     ]
    },
    {
     "name": "stdout",
     "output_type": "stream",
     "text": [
      "Avg Train Loss: 0.5092365726828575, Avg Train Acc: 0.6984999978542328\n",
      "=== Epoch: 22 ===\n"
     ]
    },
    {
     "name": "stderr",
     "output_type": "stream",
     "text": [
      "100%|██████████| 100/100 [00:38<00:00,  2.62it/s]\n"
     ]
    },
    {
     "name": "stdout",
     "output_type": "stream",
     "text": [
      "Avg Train Loss: 0.48342092722654345, Avg Train Acc: 0.7255999994277954\n",
      "=== Epoch: 23 ===\n"
     ]
    },
    {
     "name": "stderr",
     "output_type": "stream",
     "text": [
      "100%|██████████| 100/100 [00:37<00:00,  2.69it/s]\n"
     ]
    },
    {
     "name": "stdout",
     "output_type": "stream",
     "text": [
      "Avg Train Loss: 0.4601048603653908, Avg Train Acc: 0.7387999987602234\n",
      "=== Epoch: 24 ===\n"
     ]
    },
    {
     "name": "stderr",
     "output_type": "stream",
     "text": [
      "100%|██████████| 100/100 [00:37<00:00,  2.67it/s]\n"
     ]
    },
    {
     "name": "stdout",
     "output_type": "stream",
     "text": [
      "Avg Train Loss: 0.4814364966750145, Avg Train Acc: 0.7320000022649765\n",
      "=== Epoch: 25 ===\n"
     ]
    },
    {
     "name": "stderr",
     "output_type": "stream",
     "text": [
      "100%|██████████| 100/100 [00:37<00:00,  2.70it/s]\n"
     ]
    },
    {
     "name": "stdout",
     "output_type": "stream",
     "text": [
      "Avg Train Loss: 0.4444878526031971, Avg Train Acc: 0.7650000005960464\n",
      "=== Epoch: 26 ===\n"
     ]
    },
    {
     "name": "stderr",
     "output_type": "stream",
     "text": [
      "100%|██████████| 100/100 [00:37<00:00,  2.68it/s]\n"
     ]
    },
    {
     "name": "stdout",
     "output_type": "stream",
     "text": [
      "Avg Train Loss: 0.4518947121500969, Avg Train Acc: 0.7603000003099442\n",
      "=== Epoch: 27 ===\n"
     ]
    },
    {
     "name": "stderr",
     "output_type": "stream",
     "text": [
      "100%|██████████| 100/100 [00:36<00:00,  2.75it/s]\n"
     ]
    },
    {
     "name": "stdout",
     "output_type": "stream",
     "text": [
      "Avg Train Loss: 0.4136989685893059, Avg Train Acc: 0.7787000018358231\n",
      "=== Epoch: 28 ===\n"
     ]
    },
    {
     "name": "stderr",
     "output_type": "stream",
     "text": [
      "100%|██████████| 100/100 [00:37<00:00,  2.70it/s]\n"
     ]
    },
    {
     "name": "stdout",
     "output_type": "stream",
     "text": [
      "Avg Train Loss: 0.41361864551901817, Avg Train Acc: 0.7703000009059906\n",
      "=== Epoch: 29 ===\n"
     ]
    },
    {
     "name": "stderr",
     "output_type": "stream",
     "text": [
      "100%|██████████| 100/100 [00:36<00:00,  2.73it/s]\n"
     ]
    },
    {
     "name": "stdout",
     "output_type": "stream",
     "text": [
      "Avg Train Loss: 0.41889304041862485, Avg Train Acc: 0.7658000016212463\n",
      "=== Epoch: 30 ===\n"
     ]
    },
    {
     "name": "stderr",
     "output_type": "stream",
     "text": [
      "100%|██████████| 100/100 [00:36<00:00,  2.72it/s]\n"
     ]
    },
    {
     "name": "stdout",
     "output_type": "stream",
     "text": [
      "Avg Train Loss: 0.4107272346317768, Avg Train Acc: 0.7718000018596649\n",
      "=== Epoch: 31 ===\n"
     ]
    },
    {
     "name": "stderr",
     "output_type": "stream",
     "text": [
      "100%|██████████| 100/100 [00:36<00:00,  2.72it/s]\n"
     ]
    },
    {
     "name": "stdout",
     "output_type": "stream",
     "text": [
      "Avg Train Loss: 0.4025590988993645, Avg Train Acc: 0.7700000029802322\n",
      "=== Epoch: 32 ===\n"
     ]
    },
    {
     "name": "stderr",
     "output_type": "stream",
     "text": [
      "100%|██████████| 100/100 [00:37<00:00,  2.66it/s]\n"
     ]
    },
    {
     "name": "stdout",
     "output_type": "stream",
     "text": [
      "Avg Train Loss: 0.3872591580450535, Avg Train Acc: 0.7825000041723251\n",
      "=== Epoch: 33 ===\n"
     ]
    },
    {
     "name": "stderr",
     "output_type": "stream",
     "text": [
      "100%|██████████| 100/100 [00:37<00:00,  2.67it/s]\n"
     ]
    },
    {
     "name": "stdout",
     "output_type": "stream",
     "text": [
      "Avg Train Loss: 0.4174938052892685, Avg Train Acc: 0.7669000011682511\n",
      "=== Epoch: 34 ===\n"
     ]
    },
    {
     "name": "stderr",
     "output_type": "stream",
     "text": [
      "100%|██████████| 100/100 [00:36<00:00,  2.70it/s]\n"
     ]
    },
    {
     "name": "stdout",
     "output_type": "stream",
     "text": [
      "Avg Train Loss: 0.3715371511876583, Avg Train Acc: 0.7899000012874603\n",
      "=== Epoch: 35 ===\n"
     ]
    },
    {
     "name": "stderr",
     "output_type": "stream",
     "text": [
      "100%|██████████| 100/100 [00:38<00:00,  2.63it/s]\n"
     ]
    },
    {
     "name": "stdout",
     "output_type": "stream",
     "text": [
      "Avg Train Loss: 0.3908589242398739, Avg Train Acc: 0.7768000024557113\n",
      "=== Epoch: 36 ===\n"
     ]
    },
    {
     "name": "stderr",
     "output_type": "stream",
     "text": [
      "100%|██████████| 100/100 [00:36<00:00,  2.73it/s]\n"
     ]
    },
    {
     "name": "stdout",
     "output_type": "stream",
     "text": [
      "Avg Train Loss: 0.39036192908883094, Avg Train Acc: 0.7824000012874603\n",
      "=== Epoch: 37 ===\n"
     ]
    },
    {
     "name": "stderr",
     "output_type": "stream",
     "text": [
      "100%|██████████| 100/100 [00:37<00:00,  2.67it/s]\n"
     ]
    },
    {
     "name": "stdout",
     "output_type": "stream",
     "text": [
      "Avg Train Loss: 0.39052356496453283, Avg Train Acc: 0.7763000005483627\n",
      "=== Epoch: 38 ===\n"
     ]
    },
    {
     "name": "stderr",
     "output_type": "stream",
     "text": [
      "100%|██████████| 100/100 [00:37<00:00,  2.65it/s]\n"
     ]
    },
    {
     "name": "stdout",
     "output_type": "stream",
     "text": [
      "Avg Train Loss: 0.4012675406038761, Avg Train Acc: 0.7749999988079072\n",
      "=== Epoch: 39 ===\n"
     ]
    },
    {
     "name": "stderr",
     "output_type": "stream",
     "text": [
      "100%|██████████| 100/100 [00:36<00:00,  2.70it/s]\n"
     ]
    },
    {
     "name": "stdout",
     "output_type": "stream",
     "text": [
      "Avg Train Loss: 0.3687115746736527, Avg Train Acc: 0.7902000015974044\n",
      "=== Epoch: 40 ===\n"
     ]
    },
    {
     "name": "stderr",
     "output_type": "stream",
     "text": [
      "100%|██████████| 100/100 [00:35<00:00,  2.80it/s]\n"
     ]
    },
    {
     "name": "stdout",
     "output_type": "stream",
     "text": [
      "Avg Train Loss: 0.34435475662350656, Avg Train Acc: 0.8048999989032746\n",
      "=== Epoch: 41 ===\n"
     ]
    },
    {
     "name": "stderr",
     "output_type": "stream",
     "text": [
      "100%|██████████| 100/100 [00:37<00:00,  2.69it/s]\n"
     ]
    },
    {
     "name": "stdout",
     "output_type": "stream",
     "text": [
      "Avg Train Loss: 0.3692013287544251, Avg Train Acc: 0.7901000010967255\n",
      "=== Epoch: 42 ===\n"
     ]
    },
    {
     "name": "stderr",
     "output_type": "stream",
     "text": [
      "100%|██████████| 100/100 [00:37<00:00,  2.69it/s]\n"
     ]
    },
    {
     "name": "stdout",
     "output_type": "stream",
     "text": [
      "Avg Train Loss: 0.3696120096743107, Avg Train Acc: 0.791599999666214\n",
      "=== Epoch: 43 ===\n"
     ]
    },
    {
     "name": "stderr",
     "output_type": "stream",
     "text": [
      "100%|██████████| 100/100 [00:38<00:00,  2.61it/s]\n"
     ]
    },
    {
     "name": "stdout",
     "output_type": "stream",
     "text": [
      "Avg Train Loss: 0.3705327617377043, Avg Train Acc: 0.7886000037193298\n",
      "=== Epoch: 44 ===\n"
     ]
    },
    {
     "name": "stderr",
     "output_type": "stream",
     "text": [
      "100%|██████████| 100/100 [00:38<00:00,  2.62it/s]\n"
     ]
    },
    {
     "name": "stdout",
     "output_type": "stream",
     "text": [
      "Avg Train Loss: 0.3393215827643871, Avg Train Acc: 0.8112000006437302\n",
      "=== Epoch: 45 ===\n"
     ]
    },
    {
     "name": "stderr",
     "output_type": "stream",
     "text": [
      "100%|██████████| 100/100 [00:38<00:00,  2.60it/s]\n"
     ]
    },
    {
     "name": "stdout",
     "output_type": "stream",
     "text": [
      "Avg Train Loss: 0.3510974821448326, Avg Train Acc: 0.7952999991178512\n",
      "=== Epoch: 46 ===\n"
     ]
    },
    {
     "name": "stderr",
     "output_type": "stream",
     "text": [
      "100%|██████████| 100/100 [00:38<00:00,  2.62it/s]\n"
     ]
    },
    {
     "name": "stdout",
     "output_type": "stream",
     "text": [
      "Avg Train Loss: 0.3619718247652054, Avg Train Acc: 0.7953999984264374\n",
      "=== Epoch: 47 ===\n"
     ]
    },
    {
     "name": "stderr",
     "output_type": "stream",
     "text": [
      "100%|██████████| 100/100 [00:38<00:00,  2.60it/s]\n"
     ]
    },
    {
     "name": "stdout",
     "output_type": "stream",
     "text": [
      "Avg Train Loss: 0.35193532906472685, Avg Train Acc: 0.7949000018835067\n",
      "=== Epoch: 48 ===\n"
     ]
    },
    {
     "name": "stderr",
     "output_type": "stream",
     "text": [
      "100%|██████████| 100/100 [00:55<00:00,  1.81it/s]\n"
     ]
    },
    {
     "name": "stdout",
     "output_type": "stream",
     "text": [
      "Avg Train Loss: 0.34706170186400415, Avg Train Acc: 0.8003999996185303\n",
      "=== Epoch: 49 ===\n"
     ]
    },
    {
     "name": "stderr",
     "output_type": "stream",
     "text": [
      "100%|██████████| 100/100 [00:45<00:00,  2.21it/s]\n"
     ]
    },
    {
     "name": "stdout",
     "output_type": "stream",
     "text": [
      "Avg Train Loss: 0.3588626051694155, Avg Train Acc: 0.7949000006914139\n",
      "Final model saved to /home/onyxia/work/PrototypicalFewShots-4/last_model.pth\n"
     ]
    }
   ],
   "source": [
    "model, best_acc, train_loss, train_acc = train.main(opt)"
   ]
  },
  {
   "cell_type": "code",
   "execution_count": null,
   "metadata": {},
   "outputs": [],
   "source": []
  }
 ],
 "metadata": {
  "kernelspec": {
   "display_name": "base",
   "language": "python",
   "name": "python3"
  },
  "language_info": {
   "codemirror_mode": {
    "name": "ipython",
    "version": 3
   },
   "file_extension": ".py",
   "mimetype": "text/x-python",
   "name": "python",
   "nbconvert_exporter": "python",
   "pygments_lexer": "ipython3",
   "version": "3.12.7"
  }
 },
 "nbformat": 4,
 "nbformat_minor": 2
}

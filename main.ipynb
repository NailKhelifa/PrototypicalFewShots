{
 "cells": [
  {
   "cell_type": "code",
   "execution_count": 1,
   "metadata": {},
   "outputs": [],
   "source": [
    "## classique \n",
    "\n",
    "import numpy as np\n",
    "import torch \n",
    "import h5py # pour gérer les formats de données utilisés ici \n",
    "import torch\n",
    "from collections import Counter\n",
    "import matplotlib.pyplot as plt\n",
    "from tqdm import tqdm, trange\n",
    "from sklearn.metrics import classification_report, accuracy_score, confusion_matrix\n",
    "import torch.nn as nn\n",
    "import torch.nn.functional as F\n",
    "from torch.utils.data import DataLoader\n",
    "\n",
    "## handmade\n",
    "import train\n",
    "import test"
   ]
  },
  {
   "cell_type": "markdown",
   "metadata": {},
   "source": [
    "On commence par charger les données d'entraînement, que l'on va plus tard utiliser pour entraîner le modèle de few-shot learning en question. "
   ]
  },
  {
   "cell_type": "code",
   "execution_count": 2,
   "metadata": {},
   "outputs": [],
   "source": [
    "# Chemin vers le fichier de données\n",
    "x, y, snr = test.load_data(type=\"enroll\")\n"
   ]
  },
  {
   "cell_type": "markdown",
   "metadata": {},
   "source": [
    "### Few-Shot Classification\n",
    "\n",
    "In few-shot classification we are given a small support set of $ N $ labeled examples $ S = \\{(x_1, y_1), \\dots, (x_N, y_N)\\} $, where each $ x_i \\in \\mathbb{R}^D $ is the $ D $-dimensional feature vector of an example and $ y_i \\in \\{1, \\dots, K\\} $ is the corresponding label. $ S_k $ denotes the set of examples labeled with class $ k $.\n",
    "\n",
    "### Prototypical Networks classification\n",
    "\n",
    "Prototypical networks compute an $ M $-dimensional representation $ c_k \\in \\mathbb{R}^M $, or prototype, of each class through an embedding function $ f_\\phi : \\mathbb{R}^D \\to \\mathbb{R}^M $ with learnable parameters $ \\phi $. Each prototype is the mean vector of the embedded support points belonging to its class:\n",
    "\n",
    "$$\n",
    "c_k = \\frac{1}{|S_k|} \\sum_{(x_i, y_i) \\in S_k} f_\\phi(x_i) \\tag{1}\n",
    "$$\n",
    "\n",
    "Given a distance function $ d : \\mathbb{R}^M \\times \\mathbb{R}^M \\to [0, +\\infty) $, prototypical networks produce a distribution over classes for a query point $ x $ based on a softmax over distances to the prototypes in the embedding space:\n",
    "\n",
    "$$\n",
    "p_\\phi(y = k \\mid x) = \\frac{\\exp(-d(f_\\phi(x), c_k))}{\\sum_{k'} \\exp(-d(f_\\phi(x), c_{k'}))} \\tag{2}\n",
    "$$\n",
    "\n",
    "Learning proceeds by minimizing the negative log-probability:\n",
    "\n",
    "$$\n",
    "J(\\phi) = -\\log p_\\phi(y = k \\mid x)\n",
    "$$\n",
    "\n",
    "of the true class $ k $ via stochastic gradient descent (SGD). Training episodes are formed by randomly selecting a subset of classes from the training set, then choosing a subset of examples within each class to act as the support set and a subset of the remainder to serve as query points. \n"
   ]
  },
  {
   "cell_type": "code",
   "execution_count": 4,
   "metadata": {},
   "outputs": [],
   "source": [
    "opt = {\n",
    "    'train_dataset_path': 'train.hdf5',  # Path to the dataset\n",
    "    'experiment_root': '../output',  # Directory to save models, losses, and accuracies\n",
    "    'epochs': 50,  # Number of epochs for training\n",
    "    'learning_rate': 0.001,  # Learning rate for the optimizer\n",
    "    'lr_scheduler_step': 20,  # Step size for the learning rate scheduler\n",
    "    'lr_scheduler_gamma': 0.5,  # Multiplicative factor for learning rate decay\n",
    "    'iterations': 100,  # Number of episodes per epoch\n",
    "    'classes_per_it_tr': 5,  # Number of classes per training iteration\n",
    "    'num_support_tr': 5,  # Number of support samples per class for training\n",
    "    'num_query_tr': 5,  # Number of query samples per class for training\n",
    "    'classes_per_it_val': 5,  # Number of classes per validation iteration\n",
    "    'num_support_val': 5,  # Number of support samples per class for validation\n",
    "    'num_query_val': 15,  # Number of query samples per class for validation\n",
    "    'manual_seed': 7,  # Manual seed for reproducibility\n",
    "    'device': 'cuda:0'  # Whether to use CUDA for computation\n",
    "}"
   ]
  },
  {
   "cell_type": "code",
   "execution_count": null,
   "metadata": {},
   "outputs": [],
   "source": [
    "train.main(opt)"
   ]
  }
 ],
 "metadata": {
  "kernelspec": {
   "display_name": "Python (nail_env)",
   "language": "python",
   "name": "nail_env"
  },
  "language_info": {
   "codemirror_mode": {
    "name": "ipython",
    "version": 3
   },
   "file_extension": ".py",
   "mimetype": "text/x-python",
   "name": "python",
   "nbconvert_exporter": "python",
   "pygments_lexer": "ipython3",
   "version": "3.9.10"
  }
 },
 "nbformat": 4,
 "nbformat_minor": 2
}

{
 "cells": [
  {
   "cell_type": "code",
   "execution_count": 1,
   "metadata": {},
   "outputs": [],
   "source": [
    "## classique \n",
    "\n",
    "import numpy as np\n",
    "import torch \n",
    "import h5py # pour gérer les formats de données utilisés ici \n",
    "import torch\n",
    "from collections import Counter\n",
    "import matplotlib.pyplot as plt\n",
    "from tqdm import tqdm, trange\n",
    "from sklearn.metrics import classification_report, accuracy_score, confusion_matrix\n",
    "import torch.nn as nn\n",
    "import torch.nn.functional as F\n",
    "from torch.utils.data import DataLoader\n",
    "import utils\n",
    "\n",
    "## handmade\n"
   ]
  },
  {
   "cell_type": "markdown",
   "metadata": {},
   "source": [
    "On commence par charger les données d'entraînement, que l'on va plus tard utiliser pour entraîner le modèle de few-shot learning en question. "
   ]
  },
  {
   "cell_type": "code",
   "execution_count": 2,
   "metadata": {},
   "outputs": [],
   "source": [
    "# Chemin vers le fichier de données\n",
    "train_data_path = '/Users/badis/MVA_deep_and_signal/Few_shots_classif/train.hdf5'\n",
    "\n",
    "# Chargement des données HDF5\n",
    "with h5py.File(train_data_path, 'r') as data:\n",
    "    x_train = torch.tensor(data['signaux'][:])  # Convertir les signaux en tenseur PyTorch\n",
    "    # Forme [30000, 2048, 2] que l'on réorganise en [30000, 2, 2048] : (batch, canal, résolution_temporelle)\n",
    "    x_train = x_train.permute(0, 2, 1)  \n",
    "    snr_train = torch.tensor(data['snr'][:])    \n",
    "    y_train = torch.tensor(data['labels'][:])  # Convertir les labels en tenseur PyTorch\n"
   ]
  },
  {
   "cell_type": "code",
   "execution_count": 3,
   "metadata": {},
   "outputs": [
    {
     "data": {
      "text/plain": [
       "30000"
      ]
     },
     "execution_count": 3,
     "metadata": {},
     "output_type": "execute_result"
    }
   ],
   "source": [
    "len(x_train)"
   ]
  },
  {
   "cell_type": "markdown",
   "metadata": {},
   "source": [
    "### Few-Shot Classification\n",
    "\n",
    "In few-shot classification we are given a small support set of $ N $ labeled examples $ S = \\{(x_1, y_1), \\dots, (x_N, y_N)\\} $, where each $ x_i \\in \\mathbb{R}^D $ is the $ D $-dimensional feature vector of an example and $ y_i \\in \\{1, \\dots, K\\} $ is the corresponding label. $ S_k $ denotes the set of examples labeled with class $ k $.\n",
    "\n",
    "### Prototypical Networks classification\n",
    "\n",
    "Prototypical networks compute an $ M $-dimensional representation $ c_k \\in \\mathbb{R}^M $, or prototype, of each class through an embedding function $ f_\\phi : \\mathbb{R}^D \\to \\mathbb{R}^M $ with learnable parameters $ \\phi $. Each prototype is the mean vector of the embedded support points belonging to its class:\n",
    "\n",
    "$$\n",
    "c_k = \\frac{1}{|S_k|} \\sum_{(x_i, y_i) \\in S_k} f_\\phi(x_i) \\tag{1}\n",
    "$$\n",
    "\n",
    "Given a distance function $ d : \\mathbb{R}^M \\times \\mathbb{R}^M \\to [0, +\\infty) $, prototypical networks produce a distribution over classes for a query point $ x $ based on a softmax over distances to the prototypes in the embedding space:\n",
    "\n",
    "$$\n",
    "p_\\phi(y = k \\mid x) = \\frac{\\exp(-d(f_\\phi(x), c_k))}{\\sum_{k'} \\exp(-d(f_\\phi(x), c_{k'}))} \\tag{2}\n",
    "$$\n",
    "\n",
    "Learning proceeds by minimizing the negative log-probability:\n",
    "\n",
    "$$\n",
    "J(\\phi) = -\\log p_\\phi(y = k \\mid x)\n",
    "$$\n",
    "\n",
    "of the true class $ k $ via stochastic gradient descent (SGD). Training episodes are formed by randomly selecting a subset of classes from the training set, then choosing a subset of examples within each class to act as the support set and a subset of the remainder to serve as query points. \n"
   ]
  },
  {
   "cell_type": "code",
   "execution_count": 4,
   "metadata": {},
   "outputs": [],
   "source": [
    "import train"
   ]
  },
  {
   "cell_type": "code",
   "execution_count": 5,
   "metadata": {},
   "outputs": [
    {
     "name": "stderr",
     "output_type": "stream",
     "text": [
      "usage: ipykernel_launcher.py [-h] [-root DATASET_ROOT] [-exp EXPERIMENT_ROOT]\n",
      "                             [-nep EPOCHS] [-lr LEARNING_RATE]\n",
      "                             [-lrS LR_SCHEDULER_STEP]\n",
      "                             [-lrG LR_SCHEDULER_GAMMA] [-its ITERATIONS]\n",
      "                             [-cTr CLASSES_PER_IT_TR] [-nsTr NUM_SUPPORT_TR]\n",
      "                             [-nqTr NUM_QUERY_TR] [-cVa CLASSES_PER_IT_VAL]\n",
      "                             [-nsVa NUM_SUPPORT_VAL] [-nqVa NUM_QUERY_VAL]\n",
      "                             [-seed MANUAL_SEED] [--cuda]\n",
      "ipykernel_launcher.py: error: unrecognized arguments: --f=/Users/badis/Library/Jupyter/runtime/kernel-v3c9bc700af36028be0c9e4062918ec4285acf5a65.json\n"
     ]
    },
    {
     "ename": "SystemExit",
     "evalue": "2",
     "output_type": "error",
     "traceback": [
      "An exception has occurred, use %tb to see the full traceback.\n",
      "\u001b[0;31mSystemExit\u001b[0m\u001b[0;31m:\u001b[0m 2\n"
     ]
    },
    {
     "name": "stderr",
     "output_type": "stream",
     "text": [
      "/Users/badis/Library/Python/3.9/lib/python/site-packages/IPython/core/interactiveshell.py:3516: UserWarning: To exit: use 'exit', 'quit', or Ctrl-D.\n",
      "  warn(\"To exit: use 'exit', 'quit', or Ctrl-D.\", stacklevel=1)\n"
     ]
    }
   ],
   "source": [
    "train.main()"
   ]
  },
  {
   "cell_type": "code",
   "execution_count": null,
   "metadata": {},
   "outputs": [],
   "source": []
  }
 ],
 "metadata": {
  "kernelspec": {
   "display_name": "Python (nail_env)",
   "language": "python",
   "name": "nail_env"
  },
  "language_info": {
   "codemirror_mode": {
    "name": "ipython",
    "version": 3
   },
   "file_extension": ".py",
   "mimetype": "text/x-python",
   "name": "python",
   "nbconvert_exporter": "python",
   "pygments_lexer": "ipython3",
   "version": "3.9.10"
  }
 },
 "nbformat": 4,
 "nbformat_minor": 2
}
